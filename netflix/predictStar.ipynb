{
 "cells": [
  {
   "cell_type": "code",
   "execution_count": 27,
   "id": "eb0e3028",
   "metadata": {},
   "outputs": [],
   "source": [
    "import sqlite3\n",
    "import os\n",
    "import pandas as pd\n",
    "import numpy as np"
   ]
  },
  {
   "cell_type": "code",
   "execution_count": 51,
   "id": "ea924f2e",
   "metadata": {},
   "outputs": [
    {
     "data": {
      "text/plain": [
       "Index(['id', 'title', 'type', 'description', 'release_year',\n",
       "       'age_certification', 'runtime', 'genres', 'production_countries',\n",
       "       'seasons', 'imdb_id', 'imdb_score', 'imdb_votes', 'tmdb_popularity',\n",
       "       'tmdb_score'],\n",
       "      dtype='object')"
      ]
     },
     "execution_count": 51,
     "metadata": {},
     "output_type": "execute_result"
    }
   ],
   "source": [
    "DB_FILE = 'netflix.db'\n",
    "# if DB file does not exist use the csv data to populate it\n",
    "if not os.exists(DB_FILE):    \n",
    "    titles = pd.read_csv('titles.csv')\n",
    "    # make the database connection\n",
    "    dbcon = sqlite3.connect(DB_FILE)\n",
    "    # create empty tables with the correct relationships for population with the csv data\n",
    "    create_titles = '''CREATE TABLE IF NOT EXISTS titles (\n",
    "                                            id TEXT PRIMARY KEY,\n",
    "                                            title TEXT,\n",
    "                                            type TEXT,\n",
    "                                            description TEXT,\n",
    "                                            release_year INTEGER,\n",
    "                                            age_certification TEXT,\n",
    "                                            runtime INTEGER,\n",
    "                                            genres TEXT,\n",
    "                                            production_countries TEXT,\n",
    "                                            seasons INTEGER,\n",
    "                                            imdb_id TEXT,\n",
    "                                            imdb_score INTEGER,\n",
    "                                            imdb_votes INTEGER,\n",
    "                                            tmdb_popularity INTEGER,\n",
    "                                            tmdb_score INTEGER\n",
    "                                        );'''\n",
    "    create_people = '''CREATE TABLE IF NOT EXISTS people (\n",
    "                                            person_id INTEGER PRIMARY KEY,\n",
    "                                            name TEXT\n",
    "                                        );'''\n",
    "    create_role = '''CREATE TABLE IF NOT EXISTS roles (\n",
    "                                            id TEXT NOT NULL,\n",
    "                                            person_id INTEGER NOT NULL,\n",
    "                                            character TEXT,\n",
    "                                            role TEXT\n",
    "                                            FOREIGN KEY (id) REFERENCES title(id)\n",
    "                                            FOREIGN KEY (person_id) REFERENCES people(person_id) \n",
    "                                        );'''\n",
    "    "
   ]
  },
  {
   "cell_type": "code",
   "execution_count": 47,
   "id": "2f99ed46",
   "metadata": {},
   "outputs": [
    {
     "name": "stdout",
     "output_type": "stream",
     "text": [
      "The TITLES table already exists...\n",
      "       person_id         id                character      role\n",
      "0           3748    tm84618            Travis Bickle     ACTOR\n",
      "1          14658    tm84618            Iris Steensma     ACTOR\n",
      "2           7064    tm84618                      Tom     ACTOR\n",
      "3           3739    tm84618  Matthew 'Sport' Higgins     ACTOR\n",
      "4          48933    tm84618                    Betsy     ACTOR\n",
      "...          ...        ...                      ...       ...\n",
      "77208    1347054  tm1098060                   Afinni     ACTOR\n",
      "77209     157590  tm1098060           Dr. Ian Stones     ACTOR\n",
      "77210     129059  tm1098060                     Jane     ACTOR\n",
      "77211    2050199  tm1098060               Nurse Titi     ACTOR\n",
      "77212    2050423  tm1098060                      NaN  DIRECTOR\n",
      "\n",
      "[77213 rows x 4 columns]\n"
     ]
    }
   ],
   "source": [
    "\n",
    "\n",
    "# use pandas to read the title data for easy storage into the SQLite db\n",
    "titles = pd.read_csv('titles.csv')\n",
    "try:\n",
    "    titles.to_sql('titles', con=dbcon, if_exists='fail', index=False, dtype={'id': 'TEXT PRIMARY KEY'})\n",
    "except (ValueError):\n",
    "    print('The titles table already exists...')\n",
    "\n",
    "'''\n",
    "the credits data is a little harder, since it makes more sense to \n",
    "have a realtion table referencing the actor/director in a title.\n",
    "Rather than a table with dupes\n",
    "'''\n",
    "credits = pd.read_csv('credits.csv')\n",
    "# the IN relationship describes each person's role in a title\n",
    "in_relation = credits[['person_id', 'id', 'character', 'role']]\n",
    "# the new people table is table of each unique person\n",
    "people = credits.drop(['id', 'character', 'role'], axis=1)\n",
    "people.drop_duplicates(keep='first', inplace=True)\n",
    "print(in_relation)\n",
    "# add both these new tables to the database\n",
    "try:\n",
    "    people.to_sql('people', con=dbcon, if_exists='fail', index=False, dtype={'person_id': 'INTEGER PRIMARY KEY'})\n",
    "    in_relation.to_sql('role', con=dbcon, if_exists='fail', index=False, dtype={'person_id': 'INTEGER PRIMARY KEY'})\n",
    "except (ValueError):\n",
    "    print('The people and roles tables already exist...')"
   ]
  },
  {
   "cell_type": "code",
   "execution_count": 34,
   "id": "cd7b7f24",
   "metadata": {},
   "outputs": [
    {
     "data": {
      "text/plain": [
       "('tm14350',\n",
       " 'Alexandria… Why?',\n",
       " 'MOVIE',\n",
       " 'Set against the panoramic backdrop of war-torn Egypt, director Youssef Chahine tells a highly personal tale of love and determination. Amid the poverty, death and suffering caused by World War II, 18 year-old Yehia, retreats into a private world of fantasy and longing. Obsessed with Hollywood, he dreams of one day studying filmmaking in America, but after falling in love and discovering the lies of European occupation, Yehia profoundly reevaluates his identity and allegiances.',\n",
       " 1979,\n",
       " None,\n",
       " 133,\n",
       " \"['drama']\",\n",
       " \"['EG']\",\n",
       " None,\n",
       " 'tt0077751',\n",
       " 7.2,\n",
       " 1689.0,\n",
       " 1.736,\n",
       " 6.0)"
      ]
     },
     "execution_count": 34,
     "metadata": {},
     "output_type": "execute_result"
    }
   ],
   "source": [
    "cur = dbcon.cursor()\n",
    "cur.execute('''SELECT * FROM TITLES''')\n",
    "cur.fetchall()[23]"
   ]
  },
  {
   "cell_type": "code",
   "execution_count": 20,
   "id": "82f34ad2",
   "metadata": {},
   "outputs": [
    {
     "name": "stdout",
     "output_type": "stream",
     "text": [
      "    person_id        id             name  \\\n",
      "70    1464056  tm127384    Gloria Graham   \n",
      "71    1671807  tm127384    Sylvia Taylor   \n",
      "72      11490  tm127384     Julian Doyle   \n",
      "73      84047  tm127384  Margarita Doyle   \n",
      "74    1463016  tm127384     Zack Matalon   \n",
      "75    1463018  tm127384       Scott Mike   \n",
      "76    1463021  tm127384    William Palin   \n",
      "77      11475  tm127384      Terry Jones   \n",
      "78     919694  tm127384      Tom Raeburn   \n",
      "79     400172  tm127384       Brian Ross   \n",
      "80      14908  tm127384  Roy Forge Smith   \n",
      "81       8327  tm127384    John Thornton   \n",
      "82     156072  tm127384    Maggie Weston   \n",
      "83      11475  tm127384      Terry Jones   \n",
      "84      11473  tm127384    Terry Gilliam   \n",
      "85      11472   tm70993   Graham Chapman   \n",
      "86       1549   tm70993      John Cleese   \n",
      "87      11473   tm70993    Terry Gilliam   \n",
      "88      11474   tm70993        Eric Idle   \n",
      "89      11475   tm70993      Terry Jones   \n",
      "\n",
      "                                            character      role  \n",
      "70                             Girl in Castle Anthrax     ACTOR  \n",
      "71                             Girl in Castle Anthrax     ACTOR  \n",
      "72                       Police Sergeant (uncredited)     ACTOR  \n",
      "73                               Peasant (uncredited)     ACTOR  \n",
      "74          Guard who Falls into Barrels (uncredited)     ACTOR  \n",
      "75                      Bash (Mudfighter (uncredited)     ACTOR  \n",
      "76        Sir Not-Appearing-in-this-Film (uncredited)     ACTOR  \n",
      "77                            Themselves (uncredited)     ACTOR  \n",
      "78                    Guard Eating Apple (uncredited)     ACTOR  \n",
      "79                     Biff (Mudfighter) (uncredited)     ACTOR  \n",
      "80                 Inspector End of Film (uncredited)     ACTOR  \n",
      "81                        Dancing Knight (uncredited)     ACTOR  \n",
      "82                           Page-turner (uncredited)     ACTOR  \n",
      "83                                                NaN  DIRECTOR  \n",
      "84                                                NaN  DIRECTOR  \n",
      "85          Wise Man #2 / Brian Cohen / Biggus Dickus     ACTOR  \n",
      "86  Wise Man #1 / Reg / Jewish Official / First Ce...     ACTOR  \n",
      "87  Man Even Further Forward / Revolutionary / Jai...     ACTOR  \n",
      "88  Mr. Cheeky / Stan 'Loretta' / Harry the Haggle...     ACTOR  \n",
      "89  Mandy Cohen / Colin / Simon the Holy Man / Bob...     ACTOR  \n"
     ]
    }
   ],
   "source": [
    "dupes = credits[credits.duplicated(['person_id'])]\n",
    "#print(dupes)\n",
    "print(credits.iloc[70:90])"
   ]
  },
  {
   "cell_type": "code",
   "execution_count": null,
   "id": "6546d13c",
   "metadata": {},
   "outputs": [],
   "source": []
  }
 ],
 "metadata": {
  "kernelspec": {
   "display_name": "Python 3 (ipykernel)",
   "language": "python",
   "name": "python3"
  },
  "language_info": {
   "codemirror_mode": {
    "name": "ipython",
    "version": 3
   },
   "file_extension": ".py",
   "mimetype": "text/x-python",
   "name": "python",
   "nbconvert_exporter": "python",
   "pygments_lexer": "ipython3",
   "version": "3.9.7"
  }
 },
 "nbformat": 4,
 "nbformat_minor": 5
}

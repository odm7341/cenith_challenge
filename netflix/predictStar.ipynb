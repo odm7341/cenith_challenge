{
 "cells": [
  {
   "cell_type": "code",
   "execution_count": 29,
   "id": "eb0e3028",
   "metadata": {},
   "outputs": [],
   "source": [
    "import sqlite3\n",
    "import os\n",
    "import pandas as pd\n",
    "import numpy as np\n",
    "\n",
    "import matplotlib.pyplot as plt\n",
    "import seaborn as seb"
   ]
  },
  {
   "cell_type": "code",
   "execution_count": 13,
   "id": "ea924f2e",
   "metadata": {},
   "outputs": [],
   "source": [
    "### LOAD DATA FROM CSV INTO SQL DATABASE\n",
    "DB_FILE = 'netflix.db'\n",
    "# if DB file does not exist use the csv data to populate it\n",
    "if not os.path.exists(DB_FILE):    \n",
    "    titles = pd.read_csv('titles.csv')\n",
    "    # make the database connection\n",
    "    dbcon = sqlite3.connect(DB_FILE)\n",
    "    # create empty tables with the correct relationships for population with the csv data\n",
    "    create_titles = '''CREATE TABLE IF NOT EXISTS titles (\n",
    "                                            id TEXT PRIMARY KEY,\n",
    "                                            title TEXT,\n",
    "                                            type TEXT,\n",
    "                                            description TEXT,\n",
    "                                            release_year INTEGER,\n",
    "                                            age_certification TEXT,\n",
    "                                            runtime INTEGER,\n",
    "                                            genres TEXT,\n",
    "                                            production_countries TEXT,\n",
    "                                            seasons INTEGER,\n",
    "                                            imdb_id TEXT,\n",
    "                                            imdb_score INTEGER,\n",
    "                                            imdb_votes INTEGER,\n",
    "                                            tmdb_popularity INTEGER,\n",
    "                                            tmdb_score INTEGER\n",
    "                                        );'''\n",
    "    create_people = '''CREATE TABLE IF NOT EXISTS people (\n",
    "                                            person_id INTEGER PRIMARY KEY,\n",
    "                                            name TEXT\n",
    "                                        );'''\n",
    "    create_role = '''CREATE TABLE IF NOT EXISTS role (\n",
    "                                            id TEXT NOT NULL,\n",
    "                                            person_id INTEGER NOT NULL,\n",
    "                                            character TEXT,\n",
    "                                            role TEXT,\n",
    "                                            FOREIGN KEY (id) REFERENCES title(id),\n",
    "                                            FOREIGN KEY (person_id) REFERENCES people(person_id) \n",
    "                                        );'''\n",
    "    cur = dbcon.cursor() # create the above 3 empty tables\n",
    "    cur.execute(create_titles)\n",
    "    cur.execute(create_people)\n",
    "    cur.execute(create_role)\n",
    "    # use pandas to read the title data for easy storage into the SQLite db\n",
    "    titles = pd.read_csv('titles.csv')\n",
    "    titles.to_sql('titles', con=dbcon, if_exists='append', index=False)\n",
    "    \n",
    "    '''\n",
    "    the credits data is a little harder, since it makes more sense to \n",
    "    have a realation table referencing the actor/director in a title.\n",
    "    Rather than a table with dupes\n",
    "    '''\n",
    "    credits = pd.read_csv('credits.csv')\n",
    "    \n",
    "    # the IN relationship describes each person's role in a title\n",
    "    in_relation = credits[['person_id', 'id', 'character', 'role']]\n",
    "    \n",
    "    # the new people table is of each unique person (no repeats), more like a lookup\n",
    "    people = credits.drop(['id', 'character', 'role'], axis=1)\n",
    "    people.drop_duplicates(keep='first', inplace=True)\n",
    "\n",
    "    # add both these new tables to the database\n",
    "    people.to_sql('people', con=dbcon, if_exists='append', index=False)\n",
    "    in_relation.to_sql('role', con=dbcon, if_exists='append', index=False)\n",
    "    dbcon.close()\n"
   ]
  },
  {
   "cell_type": "code",
   "execution_count": 63,
   "id": "2f99ed46",
   "metadata": {},
   "outputs": [
    {
     "name": "stdout",
     "output_type": "stream",
     "text": [
      "[[1.32556035 0.7733128 ]\n",
      " [0.7733128  1.3062808 ]]\n"
     ]
    },
    {
     "data": {
      "image/png": "[encoded data removed]",
      "text/plain": [
       "<Figure size 432x288 with 1 Axes>"
      ]
     },
     "metadata": {
      "needs_background": "light"
     },
     "output_type": "display_data"
    }
   ],
   "source": [
    "# EDA\n",
    "dbcon = sqlite3.connect(DB_FILE)\n",
    "cur = dbcon.cursor()\n",
    "\n",
    "cur.execute('''\n",
    "SELECT imdb_score, tmdb_score FROM titles WHERE imdb_score NOT NULL AND tmdb_score NOT NULL\n",
    "''')\n",
    "cur.row_factory = lambda cursor, row: list(row)\n",
    "scores = np.array(cur.fetchall()).T\n",
    "#print(scores[0])\n",
    "plt.scatter(scores[0], scores[1])\n",
    "print(np.cov(scores))"
   ]
  },
  {
   "cell_type": "code",
   "execution_count": null,
   "id": "0dfcde1e",
   "metadata": {},
   "outputs": [],
   "source": [
    "cur.execute('''\n",
    "SELECT name, tmdb_score FROM titles WHERE imdb_score NOT NULL AND tmdb_score NOT NULL\n",
    "''')"
   ]
  },
  {
   "cell_type": "code",
   "execution_count": null,
   "id": "11417742",
   "metadata": {},
   "outputs": [],
   "source": []
  }
 ],
 "metadata": {
  "kernelspec": {
   "display_name": "Python 3 (ipykernel)",
   "language": "python",
   "name": "python3"
  },
  "language_info": {
   "codemirror_mode": {
    "name": "ipython",
    "version": 3
   },
   "file_extension": ".py",
   "mimetype": "text/x-python",
   "name": "python",
   "nbconvert_exporter": "python",
   "pygments_lexer": "ipython3",
   "version": "3.9.7"
  }
 },
 "nbformat": 4,
 "nbformat_minor": 5
}
